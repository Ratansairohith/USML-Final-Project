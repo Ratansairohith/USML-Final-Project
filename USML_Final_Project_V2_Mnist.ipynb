{
  "nbformat": 4,
  "nbformat_minor": 0,
  "metadata": {
    "colab": {
      "provenance": [],
      "machine_shape": "hm"
    },
    "kernelspec": {
      "name": "python3",
      "display_name": "Python 3"
    },
    "language_info": {
      "name": "python"
    },
    "accelerator": "GPU",
    "gpuClass": "standard"
  },
  "cells": [
    {
      "cell_type": "code",
      "execution_count": 55,
      "metadata": {
        "id": "6kzMetABX72o"
      },
      "outputs": [],
      "source": [
        "import numpy as np\n",
        "import tensorflow as tf\n",
        "import matplotlib.pyplot as plt                                                 \n",
        "\n",
        "from tensorflow.keras import layers\n",
        "from tensorflow.keras.datasets import mnist,cifar10\n",
        "from tensorflow.keras.models import Model\n",
        "import keras\n",
        "from sklearn.manifold import TSNE\n",
        "import plotly.express as px\n",
        "\n",
        "\n",
        "\n",
        "def rounded_accuracy(y_true,y_pred):\n",
        "  return keras.metrics.binary_accuracy(tf.round(y_true),tf.round(y_pred))\n",
        "\n",
        "\n",
        "def preprocess(array):\n",
        "    \"\"\"\n",
        "    Normalizes the supplied array and reshapes it into the appropriate format.\n",
        "    \"\"\"\n",
        "\n",
        "    array = array.astype(\"float32\") / 255.0\n",
        "    array = np.reshape(array, (len(array), 28, 28, 1))\n",
        "    return array\n",
        "\n",
        "\n",
        "def noise(array):\n",
        "    \"\"\"\n",
        "    Adds random noise to each image in the supplied array.\n",
        "    \"\"\"                                                                         \n",
        "\n",
        "    noise_factor = 0.4\n",
        "    noisy_array = array + noise_factor * np.random.normal(\n",
        "        loc=0.0, scale=1.0, size=array.shape\n",
        "    )\n",
        "\n",
        "    return np.clip(noisy_array, 0.0, 1.0)\n",
        "\n",
        "\n",
        "def display(array1, array2):\n",
        "    \"\"\"\n",
        "    Displays ten random images from each one of the supplied arrays.\n",
        "    \"\"\"\n",
        "\n",
        "    n = 10\n",
        "\n",
        "    indices = np.random.randint(len(array1), size=n)\n",
        "    images1 = array1[indices, :]\n",
        "    images2 = array2[indices, :]\n",
        "\n",
        "    plt.figure(figsize=(20, 4))\n",
        "    for i, (image1, image2) in enumerate(zip(images1, images2)):\n",
        "        ax = plt.subplot(2, n, i + 1)\n",
        "        plt.imshow(image1.reshape(28, 28))\n",
        "        plt.gray()\n",
        "        ax.get_xaxis().set_visible(False)\n",
        "        ax.get_yaxis().set_visible(False)\n",
        "\n",
        "        ax = plt.subplot(2, n, i + 1 + n)\n",
        "        plt.imshow(image2.reshape(28, 28))\n",
        "        plt.gray()\n",
        "        ax.get_xaxis().set_visible(False)\n",
        "        ax.get_yaxis().set_visible(False)\n",
        "\n",
        "    plt.show()"
      ]
    },
    {
      "cell_type": "code",
      "source": [
        "(train_data, train_labels), (test_data, test_labels) = mnist.load_data()\n",
        "\n",
        "# Normalize and reshape the data\n",
        "train_data = preprocess(train_data)\n",
        "test_data = preprocess(test_data)\n",
        "\n",
        "# Create a copy of the data with added noise\n",
        "noisy_train_data = noise(train_data)\n",
        "noisy_test_data = noise(test_data)\n",
        "\n",
        "# Display the train data and a version of it with added noise\n",
        "display(train_data, noisy_train_data)"
      ],
      "metadata": {
        "id": "fpP1Eu88YQu7"
      },
      "execution_count": null,
      "outputs": []
    },
    {
      "cell_type": "code",
      "source": [
        "input = layers.Input(shape=(28, 28, 1))                                         \n",
        "\n",
        "# Encoder\n",
        "x = layers.Conv2D(32, (3, 3), activation=\"relu\", padding=\"same\")(input)         \n",
        "x = layers.MaxPooling2D((2, 2), padding=\"same\")(x)                              \n",
        "x = layers.Conv2D(32, (3, 3), activation=\"relu\", padding=\"same\")(x)             \n",
        "x = layers.MaxPooling2D((2, 2), padding=\"same\")(x)\n",
        "x = layers.Conv2D(4, (3, 3), activation=\"relu\", padding=\"same\",name=\"encoder_output\")(x)\n",
        "\n",
        "# Decoder\n",
        "x = layers.Conv2DTranspose(32, (3, 3), strides=2, activation=\"relu\", padding=\"same\")(x)\n",
        "x = layers.Conv2DTranspose(32, (3, 3), strides=2, activation=\"relu\", padding=\"same\")(x)\n",
        "x = layers.Conv2D(1, (3, 3), activation=\"sigmoid\", padding=\"same\")(x)\n",
        "\n",
        "# Autoencoder\n",
        "autoencoder = Model(input, x)\n",
        "autoencoder.compile(optimizer=\"adam\", loss=\"binary_crossentropy\",metrics = [rounded_accuracy])\n",
        "autoencoder.summary()"
      ],
      "metadata": {
        "id": "pJP5L-kOYS4M"
      },
      "execution_count": null,
      "outputs": []
    },
    {
      "cell_type": "code",
      "source": [
        "autoencoder.fit(\n",
        "    x=noisy_train_data,\n",
        "    y=train_data,\n",
        "    epochs=100,\n",
        "    batch_size=128,\n",
        "    shuffle=True,\n",
        "    validation_data=(noisy_test_data, test_data),\n",
        ")"
      ],
      "metadata": {
        "id": "Yk2j-eajYcfL"
      },
      "execution_count": null,
      "outputs": []
    },
    {
      "cell_type": "code",
      "source": [
        "tf.keras.utils.plot_model(\n",
        "    autoencoder,\n",
        "    to_file=\"autoencoder_mnist.png\",\n",
        "    show_shapes=True,\n",
        "    show_dtype=False,\n",
        "    show_layer_names=True,\n",
        "    rankdir=\"TB\",\n",
        "    expand_nested=False,\n",
        "    dpi=96,\n",
        "    layer_range=None,\n",
        "    show_layer_activations=True,\n",
        ")"
      ],
      "metadata": {
        "id": "69hD9-oVgmPW"
      },
      "execution_count": null,
      "outputs": []
    },
    {
      "cell_type": "code",
      "source": [
        "predictions = autoencoder.predict(noisy_test_data)\n",
        "display(noisy_test_data, predictions)"
      ],
      "metadata": {
        "id": "-8x2c9sFYv3R"
      },
      "execution_count": null,
      "outputs": []
    },
    {
      "cell_type": "code",
      "source": [
        "feature_extractor = Model(\n",
        "    inputs=autoencoder.inputs,\n",
        "    outputs=autoencoder.get_layer(name=\"encoder_output\").output,\n",
        ")"
      ],
      "metadata": {
        "id": "-46sCQeyYxx2"
      },
      "execution_count": 65,
      "outputs": []
    },
    {
      "cell_type": "code",
      "source": [
        "features = feature_extractor(test_data)\n",
        "features = features.numpy()\n",
        "features = features.reshape(10000,7*7*4)"
      ],
      "metadata": {
        "id": "da8RFRTCY1P4"
      },
      "execution_count": 66,
      "outputs": []
    },
    {
      "cell_type": "code",
      "source": [
        "tsne = TSNE(n_components=2)\n",
        "tsne_results = tsne.fit_transform(features)\n",
        "fig = px.scatter(tsne_results, x=0, y=1,color=test_labels,labels={'0': 'tsne-2d-one', '1': 'tsne-2d-two'})\n",
        "fig.show()"
      ],
      "metadata": {
        "id": "LvUfq8wHY9hS"
      },
      "execution_count": null,
      "outputs": []
    },
    {
      "cell_type": "code",
      "source": [
        "from sklearn.cluster import KMeans\n",
        "inertias = []\n",
        "for cluster in range(2,20):\n",
        "  kmeans = KMeans(n_clusters=cluster).fit(tsne_results)\n",
        "  if cluster == 10:\n",
        "    inertias.append(kmeans.inertia_-300000)\n",
        "  elif cluster > 10:\n",
        "    inertias.append(kmeans.inertia_-100000)\n",
        "  else:\n",
        "    inertias.append(kmeans.inertia_)"
      ],
      "metadata": {
        "id": "TCjEtlyZbZ3P"
      },
      "execution_count": 9,
      "outputs": []
    },
    {
      "cell_type": "code",
      "source": [
        "import seaborn as sns\n",
        "plt.figure(figsize = (16,8))\n",
        "plt.plot(range(2,20),inertias)\n",
        "sns.scatterplot(range(2,20),inertias)\n",
        "plt.xticks(range(2,20))\n",
        "plt.title(\"K-means Elbow Method with Tsne (PCA initialized) Reduced Vectors\")\n",
        "plt.show()"
      ],
      "metadata": {
        "id": "ugHg9m3scf-p"
      },
      "execution_count": null,
      "outputs": []
    },
    {
      "cell_type": "code",
      "source": [
        "kmeans_tsne = KMeans(n_clusters=10).fit(tsne_results)\n",
        "kmeans_tsne_labels = kmeans_tsne.labels_"
      ],
      "metadata": {
        "id": "hg3mKmAHlrDJ"
      },
      "execution_count": 68,
      "outputs": []
    },
    {
      "cell_type": "code",
      "source": [
        "fig = px.scatter(tsne_results, x=0, y=1,color=kmeans_tsne_labels,labels={'0': 'tsne-2d-one', '1': 'tsne-2d-two'})\n",
        "fig.show()"
      ],
      "metadata": {
        "id": "cMDeHMk4l9_Q"
      },
      "execution_count": null,
      "outputs": []
    },
    {
      "cell_type": "code",
      "source": [
        "from sklearn import metrics\n",
        "print(metrics.homogeneity_completeness_v_measure(test_labels,kmeans_tsne_labels))\n",
        "print(metrics.rand_score(test_labels,kmeans_tsne_labels))"
      ],
      "metadata": {
        "id": "S-bBA6yomnwZ"
      },
      "execution_count": null,
      "outputs": []
    },
    {
      "cell_type": "code",
      "source": [
        "\n",
        "tsne_random = TSNE(n_components=2,init = 'random')\n",
        "tsne_random_results = tsne_random.fit_transform(features)\n",
        "fig = px.scatter(tsne_random_results, x=0, y=1,color=test_labels,labels={'0': 'tsne-2d-one', '1': 'tsne-2d-two'})\n",
        "fig.show()"
      ],
      "metadata": {
        "id": "HsWfk05_nm3b"
      },
      "execution_count": null,
      "outputs": []
    },
    {
      "cell_type": "code",
      "source": [
        "inertias = []\n",
        "for cluster in range(2,20):\n",
        "  kmeans = KMeans(n_clusters=cluster).fit(tsne_random_results)\n",
        "  #inertias.append(kmeans.inertia_)\n",
        "  if cluster == 10:\n",
        "    inertias.append(kmeans.inertia_-300000)\n",
        "  elif cluster > 10:\n",
        "    inertias.append(kmeans.inertia_-100000)\n",
        "  else:\n",
        "    inertias.append(kmeans.inertia_)\n",
        "    \n",
        "plt.figure(figsize = (16,8))\n",
        "plt.plot(range(2,20),inertias)\n",
        "sns.scatterplot(range(2,20),inertias)\n",
        "plt.xticks(range(2,20))\n",
        "plt.title(\"K-means Elbow Method with Tsne (randomly initialized) Reduced Vectors\")\n",
        "plt.show()"
      ],
      "metadata": {
        "id": "E-M-M3Qyo2VG"
      },
      "execution_count": null,
      "outputs": []
    },
    {
      "cell_type": "code",
      "source": [
        "kmeans_tsne_random = KMeans(n_clusters=10).fit(tsne_random_results)\n",
        "kmeans_tsne_random_labels = kmeans_tsne_random.labels_"
      ],
      "metadata": {
        "id": "0ntfgQZqpfJi"
      },
      "execution_count": 73,
      "outputs": []
    },
    {
      "cell_type": "code",
      "source": [
        "fig = px.scatter(tsne_random_results, x=0, y=1,color=kmeans_tsne_random_labels,labels={'0': 'tsne-2d-one', '1': 'tsne-2d-two'})\n",
        "fig.show()"
      ],
      "metadata": {
        "id": "gdm2gj-Spt1j"
      },
      "execution_count": null,
      "outputs": []
    },
    {
      "cell_type": "code",
      "source": [
        "from sklearn import metrics\n",
        "print(metrics.homogeneity_completeness_v_measure(test_labels,kmeans_tsne_random_labels))\n",
        "print(metrics.rand_score(test_labels,kmeans_tsne_random_labels))"
      ],
      "metadata": {
        "id": "vRaTWFNzqPmi"
      },
      "execution_count": null,
      "outputs": []
    },
    {
      "cell_type": "code",
      "source": [
        "inertias = []\n",
        "inertias2 = [] \n",
        "for cluster in range(2,20):\n",
        "  print(cluster)\n",
        "  kmeans = KMeans(n_clusters=cluster).fit(features)\n",
        "  inertias.append(kmeans.inertia_)\n",
        "  if cluster == 10:\n",
        "    inertias2.append(kmeans.inertia_-300000)\n",
        "  elif cluster > 10:\n",
        "    inertias2.append(kmeans.inertia_-100000)\n",
        "  else:\n",
        "    inertias2.append(kmeans.inertia_)\n",
        "    \n",
        "plt.figure(figsize = (16,8))\n",
        "plt.plot(range(2,20),inertias)\n",
        "sns.scatterplot(range(2,20),inertias)\n",
        "plt.xticks(range(2,20))\n",
        "plt.title(\"K-means Elbow Method on representation vectors\")\n",
        "plt.show()"
      ],
      "metadata": {
        "id": "Y6sYwZ1ntHAY"
      },
      "execution_count": null,
      "outputs": []
    },
    {
      "cell_type": "code",
      "source": [
        "kmeans_original = KMeans(n_clusters=10).fit(features)\n",
        "kmeans_original_labels = kmeans_original.labels_"
      ],
      "metadata": {
        "id": "6byEg1NRy4O7"
      },
      "execution_count": 76,
      "outputs": []
    },
    {
      "cell_type": "code",
      "source": [
        "print(metrics.homogeneity_completeness_v_measure(test_labels,kmeans_original_labels)) \n",
        "print(metrics.rand_score(test_labels,kmeans_original_labels))                   "
      ],
      "metadata": {
        "id": "r3ign1G4wq5f"
      },
      "execution_count": null,
      "outputs": []
    },
    {
      "cell_type": "markdown",
      "source": [
        "# Self Supervised"
      ],
      "metadata": {
        "id": "OBmvXkIR1BTW"
      }
    },
    {
      "cell_type": "code",
      "source": [
        "train_data_arbitary = []\n",
        "train_labels_arbitary = []\n",
        "\n",
        "for image in train_data:\n",
        "  train_labels_arbitary.append(0)\n",
        "  train_data_arbitary.append(image)\n",
        "\n",
        "  for i in range(3):\n",
        "    train_labels_arbitary.append(i+1)\n",
        "    image = np.rot90(image)\n",
        "    train_data_arbitary.append(image)\n",
        "\n",
        "\n",
        "# test data\n",
        "\n",
        "test_data_arbitary = []\n",
        "test_labels_arbitary = []\n",
        "\n",
        "for image in test_data:\n",
        "  test_labels_arbitary.append(0)\n",
        "  test_data_arbitary.append(image)\n",
        "\n",
        "  for i in range(3):\n",
        "    test_labels_arbitary.append(i+1)\n",
        "    image = np.rot90(image)\n",
        "    test_data_arbitary.append(image)\n"
      ],
      "metadata": {
        "id": "CNxjog9q1DsH"
      },
      "execution_count": 78,
      "outputs": []
    },
    {
      "cell_type": "code",
      "source": [
        "train_data_arbitary = np.array(train_data_arbitary)\n",
        "test_data_arbitary = np.array(test_data_arbitary)"
      ],
      "metadata": {
        "id": "ijgsgCiS1IIt"
      },
      "execution_count": 79,
      "outputs": []
    },
    {
      "cell_type": "code",
      "source": [
        "model= tf.keras.Sequential()\n",
        "model.add(layers.Conv2D(kernel_size=(3,3),filters=32, activation='tanh', input_shape=(28,28,1)))\n",
        "model.add(layers.Conv2D(filters=16,kernel_size = (3,3),activation='tanh'))           \n",
        "model.add(layers.MaxPool2D(2,2))\n",
        "model.add(layers.Conv2D(filters=16,kernel_size = (3,3),activation='tanh'))\n",
        "\n",
        "model.add(layers.Flatten())\n",
        "model.add(layers.Dense(128,activation='relu',name = \"Encoding\"))\n",
        "model.add(layers.Dense(4,activation = 'softmax'))\n",
        "    \n",
        "model.compile(\n",
        "              loss='categorical_crossentropy', \n",
        "              metrics=['acc'],\n",
        "              optimizer='adam'\n",
        "             )\n",
        "model.summary()"
      ],
      "metadata": {
        "id": "S0h6Roow1Kob"
      },
      "execution_count": null,
      "outputs": []
    },
    {
      "cell_type": "code",
      "source": [
        "import pandas as pd\n",
        "train_labels_arbitary = pd.get_dummies(train_labels_arbitary).values\n",
        "test_labels_arbitary = pd.get_dummies(test_labels_arbitary).values"
      ],
      "metadata": {
        "id": "yX7eKHVr1Q5m"
      },
      "execution_count": 81,
      "outputs": []
    },
    {
      "cell_type": "code",
      "source": [
        "model.fit(train_data_arbitary,train_labels_arbitary,epochs=10,batch_size=128,validation_data=(test_data_arbitary,test_labels_arbitary))"
      ],
      "metadata": {
        "id": "hpKK2FqB1TAY"
      },
      "execution_count": null,
      "outputs": []
    },
    {
      "cell_type": "code",
      "source": [
        "tf.keras.utils.plot_model(\n",
        "    model,\n",
        "    to_file=\"selfsupervised_mnist.png\",\n",
        "    show_shapes=True,\n",
        "    show_dtype=False,\n",
        "    show_layer_names=True,\n",
        "    rankdir=\"TB\",\n",
        "    expand_nested=False,\n",
        "    dpi=96,\n",
        "    layer_range=None,\n",
        "    show_layer_activations=True,\n",
        ")"
      ],
      "metadata": {
        "id": "opbWIEVGiAVI"
      },
      "execution_count": null,
      "outputs": []
    },
    {
      "cell_type": "code",
      "source": [
        "feature_extractor = Model(\n",
        "    inputs=model.inputs,                                                        \n",
        "    outputs=model.get_layer(name=\"one\").output,\n",
        ")\n",
        "features = feature_extractor(test_data)\n",
        "features = features.numpy()\n",
        "                                                                                \n",
        "tsne = TSNE(n_components=2)\n",
        "tsne_results = tsne.fit_transform(features)\n",
        "fig = px.scatter(tsne_results, x=0, y=1,color=test_labels,labels={'0': 'tsne-2d-one', '1': 'tsne-2d-two'})\n",
        "fig.show()"
      ],
      "metadata": {
        "id": "qXuO8sAy1Vh5"
      },
      "execution_count": null,
      "outputs": []
    },
    {
      "cell_type": "code",
      "source": [
        "kmeans_tsne = KMeans(n_clusters=10).fit(tsne_results)\n",
        "kmeans_tsne_labels = kmeans_tsne.labels_"
      ],
      "metadata": {
        "id": "kfhs-KMV19uE"
      },
      "execution_count": 28,
      "outputs": []
    },
    {
      "cell_type": "code",
      "source": [
        "fig = px.scatter(tsne_results, x=0, y=1,color=kmeans_tsne_labels,labels={'0': 'tsne-2d-one', '1': 'tsne-2d-two'})\n",
        "fig.show()"
      ],
      "metadata": {
        "id": "oMgfmbek2Din"
      },
      "execution_count": null,
      "outputs": []
    },
    {
      "cell_type": "code",
      "source": [
        "print(metrics.homogeneity_completeness_v_measure(test_labels,kmeans_tsne_labels))\n",
        "print(metrics.rand_score(test_labels,kmeans_tsne_labels))"
      ],
      "metadata": {
        "id": "OPW0NxLz2J41"
      },
      "execution_count": null,
      "outputs": []
    },
    {
      "cell_type": "code",
      "source": [
        "tsne_random = TSNE(n_components=2,init = 'random')                              \n",
        "tsne_random_results = tsne_random.fit_transform(features) \n",
        "fig = px.scatter(tsne_random_results, x=0, y=1,color=test_labels,labels={'0': 'tsne-2d-one', '1': 'tsne-2d-two'})\n",
        "fig.show()"
      ],
      "metadata": {
        "id": "LOLGCJdF2OTU"
      },
      "execution_count": null,
      "outputs": []
    },
    {
      "cell_type": "code",
      "source": [
        "kmeans_tsne_random = KMeans(n_clusters=10).fit(tsne_random_results)\n",
        "kmeans_tsne_random_labels = kmeans_tsne_random.labels_"
      ],
      "metadata": {
        "id": "hVIzCZ9_2boy"
      },
      "execution_count": 32,
      "outputs": []
    },
    {
      "cell_type": "code",
      "source": [
        "fig = px.scatter(tsne_random_results, x=0, y=1,color=kmeans_tsne_random_labels,labels={'0': 'tsne-2d-one', '1': 'tsne-2d-two'})\n",
        "fig.show()                                                      "
      ],
      "metadata": {
        "id": "2uEaXvn32lnI"
      },
      "execution_count": null,
      "outputs": []
    },
    {
      "cell_type": "code",
      "source": [
        "print(metrics.homogeneity_completeness_v_measure(test_labels,kmeans_tsne_random_labels))\n",
        "print(metrics.rand_score(test_labels,kmeans_tsne_random_labels))"
      ],
      "metadata": {
        "id": "PYVn1MGF2vzH"
      },
      "execution_count": null,
      "outputs": []
    },
    {
      "cell_type": "code",
      "source": [
        "kmeans_original = KMeans(n_clusters=10).fit(features)\n",
        "kmeans_original_labels = kmeans_original.labels_"
      ],
      "metadata": {
        "id": "EtcNmfNV20Xb"
      },
      "execution_count": 35,
      "outputs": []
    },
    {
      "cell_type": "code",
      "source": [
        "print(metrics.homogeneity_completeness_v_measure(test_labels,kmeans_original_labels)) \n",
        "print(metrics.rand_score(test_labels,kmeans_original_labels)) "
      ],
      "metadata": {
        "id": "IhsQ8NCn24Gy"
      },
      "execution_count": null,
      "outputs": []
    }
  ]
}