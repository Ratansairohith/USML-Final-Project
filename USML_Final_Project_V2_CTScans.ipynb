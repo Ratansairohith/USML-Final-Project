{
  "nbformat": 4,
  "nbformat_minor": 0,
  "metadata": {
    "colab": {
      "provenance": [],
      "machine_shape": "hm"
    },
    "kernelspec": {
      "name": "python3",
      "display_name": "Python 3"
    },
    "language_info": {
      "name": "python"
    },
    "accelerator": "GPU",
    "gpuClass": "premium"
  },
  "cells": [
    {
      "cell_type": "markdown",
      "source": [
        "# Pneumonia Autoencoder"
      ],
      "metadata": {
        "id": "aBDpM0Bb0VJf"
      }
    },
    {
      "cell_type": "code",
      "source": [
        "import os\n",
        "import numpy as np\n",
        "import tensorflow as tf\n",
        "import matplotlib.pyplot as plt\n",
        "from tensorflow.keras import layers\n",
        "from tensorflow.keras.datasets import mnist,cifar10\n",
        "from tensorflow.keras.models import Model\n",
        "import keras\n",
        "from sklearn.manifold import TSNE\n",
        "import plotly.express as px\n",
        "\n",
        "os.environ[\"KAGGLE_USERNAME\"] = \"ratan123\"\n",
        "os.environ[\"KAGGLE_KEY\"] = \"a103a34f897e04ba4ebe09bb64a22132\"\n",
        "!kaggle datasets download -d tolgadincer/labeled-chest-xray-images"
      ],
      "metadata": {
        "id": "B1Yv06PU0XCl"
      },
      "execution_count": null,
      "outputs": []
    },
    {
      "cell_type": "code",
      "source": [
        "from zipfile import ZipFile\n",
        "file_name=\"/content/labeled-chest-xray-images.zip\"\n",
        "\n",
        "with ZipFile(file_name,'r') as zip:\n",
        "    zip.extractall()\n",
        "    print('Done')"
      ],
      "metadata": {
        "id": "HsaBCZRc0hWL"
      },
      "execution_count": null,
      "outputs": []
    },
    {
      "cell_type": "code",
      "source": [
        "del zip                                                                         "
      ],
      "metadata": {
        "id": "dY8crDrFNZte"
      },
      "execution_count": 3,
      "outputs": []
    },
    {
      "cell_type": "code",
      "source": [
        "\"\"\"import cv2\n",
        "\n",
        "lists = ['movietheater', 'bakery', 'subway', 'elevator', 'stairscase', 'prisoncell', 'laundromat']\n",
        "classes = []\n",
        "images = []\n",
        "for dirname, _, filenames in os.walk('/content/indoorCVPR_09/Images/'):\n",
        "    number_of_images = len(os.listdir(dirname))\n",
        "    name = dirname.split('/')[-1]\n",
        "    if number_of_images > 400:\n",
        "        for file in filenames:\n",
        "            im = cv2.imread(dirname+'/'+file,0)\n",
        "            if im is not None:\n",
        "                images.append(dirname+'/'+file)\n",
        "                classes.append(name)\"\"\"\n",
        "\n",
        "import cv2\n",
        "classes = []\n",
        "images = []\n",
        "for dirname, _, filenames in os.walk('/content/chest_xray/train/'):\n",
        "    number_of_images = len(os.listdir(dirname))                                 \n",
        "    name = dirname.split('/')[-1]\n",
        "    for file in filenames:\n",
        "      im = cv2.imread(dirname+'/'+file,0)\n",
        "      if im is not None:\n",
        "        images.append(dirname+'/'+file)\n",
        "        classes.append(name)\n",
        "        if len(classes) == 1349 and name == \"PNEUMONIA\":\n",
        "          break \n"
      ],
      "metadata": {
        "id": "jo4vxWBt0nwg"
      },
      "execution_count": 4,
      "outputs": []
    },
    {
      "cell_type": "code",
      "source": [
        "classes = classes[:1349*2]\n",
        "images = images[:1349*2]"
      ],
      "metadata": {
        "id": "VG_JdXSc9nlJ"
      },
      "execution_count": 5,
      "outputs": []
    },
    {
      "cell_type": "code",
      "source": [
        "import pandas as pd\n",
        "image_df = pd.DataFrame()\n",
        "image_df['Filename'] = images\n",
        "image_df['Label'] = classes"
      ],
      "metadata": {
        "id": "xNfGtNSX97KY"
      },
      "execution_count": 6,
      "outputs": []
    },
    {
      "cell_type": "code",
      "source": [
        "from sklearn.utils import shuffle\n",
        "image_df = shuffle(image_df)"
      ],
      "metadata": {
        "id": "nfcoFlwb-A1F"
      },
      "execution_count": 7,
      "outputs": []
    },
    {
      "cell_type": "code",
      "source": [
        "images_names = image_df['Filename'].to_list()\n",
        "classes = image_df['Label'].to_list()"
      ],
      "metadata": {
        "id": "-ON4NwH2-PEh"
      },
      "execution_count": 8,
      "outputs": []
    },
    {
      "cell_type": "code",
      "source": [
        "images = []\n",
        "for i in images_names:\n",
        "  im = cv2.imread(i,0)\n",
        "  if im is not None:\n",
        "    images.append(cv2.resize(im,(128,128)))"
      ],
      "metadata": {
        "id": "D6MwfvvB-Yxr"
      },
      "execution_count": 9,
      "outputs": []
    },
    {
      "cell_type": "code",
      "source": [
        "plt.imshow(images[0],cmap = 'gray')"
      ],
      "metadata": {
        "id": "kcHcg28DY-RL"
      },
      "execution_count": null,
      "outputs": []
    },
    {
      "cell_type": "code",
      "source": [
        "plt.imshow(images[100],cmap = 'gray')"
      ],
      "metadata": {
        "id": "z_0Erq_4ZNne"
      },
      "execution_count": null,
      "outputs": []
    },
    {
      "cell_type": "code",
      "source": [
        "images = np.array(images)"
      ],
      "metadata": {
        "id": "db09fd691nv3"
      },
      "execution_count": 12,
      "outputs": []
    },
    {
      "cell_type": "code",
      "source": [
        "from sklearn import preprocessing\n",
        "le = preprocessing.LabelEncoder()\n",
        "classes_transformed = le.fit_transform(classes)"
      ],
      "metadata": {
        "id": "N27jI-kU19Hd"
      },
      "execution_count": 13,
      "outputs": []
    },
    {
      "cell_type": "code",
      "source": [
        "def preprocess(array):\n",
        "    \"\"\"\n",
        "    Normalizes the supplied array and reshapes it into the appropriate format.\n",
        "    \"\"\"\n",
        "\n",
        "    array = array.astype(\"float32\") / 255.0\n",
        "    array = np.reshape(array, (len(array), 128, 128, 1))\n",
        "    return array\n",
        "\n",
        "\n",
        "def noise(array):\n",
        "    \"\"\"\n",
        "    Adds random noise to each image in the supplied array.\n",
        "    \"\"\"\n",
        "\n",
        "    noise_factor = 0.1\n",
        "    noisy_array = array + noise_factor * np.random.normal(\n",
        "        loc=0.0, scale=1.0, size=array.shape\n",
        "    )\n",
        "\n",
        "    return np.clip(noisy_array, 0.0, 1.0)\n",
        "\n",
        "\n",
        "def display(array1, array2):                                                    \n",
        "    \"\"\"\n",
        "    Displays ten random images from each one of the supplied arrays.\n",
        "    \"\"\"\n",
        "\n",
        "    n = 10\n",
        "\n",
        "    indices = np.random.randint(len(array1), size=n)\n",
        "    images1 = array1[indices, :]\n",
        "    images2 = array2[indices, :]\n",
        "\n",
        "    plt.figure(figsize=(20, 4))\n",
        "    for i, (image1, image2) in enumerate(zip(images1, images2)):\n",
        "        ax = plt.subplot(2, n, i + 1)\n",
        "        plt.imshow(image1.reshape(128, 128))\n",
        "        plt.gray()\n",
        "        ax.get_xaxis().set_visible(False)\n",
        "        ax.get_yaxis().set_visible(False)\n",
        "\n",
        "        ax = plt.subplot(2, n, i + 1 + n)\n",
        "        plt.imshow(image2.reshape(128, 128))\n",
        "        plt.gray()\n",
        "        ax.get_xaxis().set_visible(False)\n",
        "        ax.get_yaxis().set_visible(False)\n",
        "\n",
        "    plt.show()\n"
      ],
      "metadata": {
        "id": "Od-_x7nG2Wm2"
      },
      "execution_count": 14,
      "outputs": []
    },
    {
      "cell_type": "code",
      "source": [
        "index = int(images.shape[0]*0.70)"
      ],
      "metadata": {
        "id": "EN3n32O_W4Es"
      },
      "execution_count": 15,
      "outputs": []
    },
    {
      "cell_type": "code",
      "source": [
        "train_data = images[:index]\n",
        "test_data = images[index:]\n",
        "\n",
        "train_classes = classes[:index]\n",
        "test_classes = classes[index:]\n",
        "\n",
        "# Normalize and reshape the data\n",
        "train_data = preprocess(train_data)\n",
        "test_data = preprocess(test_data)\n",
        "\n",
        "# Create a copy of the data with added noise\n",
        "noisy_train_data = noise(train_data)\n",
        "noisy_test_data = noise(test_data)\n",
        "\n",
        "# Display the train data and a version of it with added noise\n",
        "display(train_data, noisy_train_data)"
      ],
      "metadata": {
        "id": "852XsRKS1xjr"
      },
      "execution_count": null,
      "outputs": []
    },
    {
      "cell_type": "code",
      "source": [
        "def rounded_accuracy(y_true,y_pred):\n",
        "  return keras.metrics.binary_accuracy(tf.round(y_true),tf.round(y_pred))\n",
        "\n",
        "input = layers.Input(shape=(128, 128, 1))\n",
        "\n",
        "# Encoder\n",
        "x = layers.Conv2D(4, (3, 3), activation=\"relu\", padding=\"same\")(input)\n",
        "x = layers.MaxPooling2D((2, 2), padding=\"same\")(x)\n",
        "x = layers.Conv2D(4, (3, 3), activation=\"relu\", padding=\"same\")(x)\n",
        "x = layers.MaxPooling2D((2, 2), padding=\"same\")(x)\n",
        "x = layers.Conv2D(4, (3, 3),strides=2, activation=\"relu\", padding=\"same\",name=\"encoder_output\")(x)\n",
        "\n",
        "# Decoder                                                                       \n",
        "x = layers.Conv2DTranspose(4, (3, 3), strides=2, activation=\"relu\", padding=\"same\")(x)\n",
        "x = layers.Conv2DTranspose(4, (3, 3), strides=2, activation=\"relu\", padding=\"same\")(x)\n",
        "x = layers.Conv2DTranspose(4, (3, 3), strides=2, activation=\"relu\", padding=\"same\")(x)\n",
        "x = layers.Conv2D(1, (3, 3), activation=\"sigmoid\", padding=\"same\")(x)\n",
        "\n",
        "# Autoencoder\n",
        "autoencoder = Model(input, x)\n",
        "autoencoder.compile(optimizer=\"adam\", loss=\"binary_crossentropy\",metrics = [rounded_accuracy])\n",
        "autoencoder.summary()"
      ],
      "metadata": {
        "id": "MtvY6kvx2z3r"
      },
      "execution_count": null,
      "outputs": []
    },
    {
      "cell_type": "code",
      "source": [
        "callback = tf.keras.callbacks.ReduceLROnPlateau(monitor='val_loss', factor=0.2,\n",
        "                              patience=5, min_lr=0.00001)\n",
        "\n",
        "import keras\n",
        "def rounded_accuracy(y_true,y_pred):\n",
        "  return keras.metrics.binary_accuracy(tf.round(y_true),tf.round(y_pred))\n",
        "\n",
        "autoencoder.fit(\n",
        "    x=train_data,\n",
        "    y=train_data,                                                               \n",
        "    epochs=100,\n",
        "    batch_size=128,\n",
        "    shuffle=True,\n",
        "    validation_data=(test_data, test_data),callbacks=[callback]                 \n",
        ")"
      ],
      "metadata": {
        "id": "lHRc1t4l29-o"
      },
      "execution_count": null,
      "outputs": []
    },
    {
      "cell_type": "code",
      "source": [
        "predictions = autoencoder.predict(test_data)\n",
        "display(test_data, predictions)"
      ],
      "metadata": {
        "id": "-AwvYVxi3ND2"
      },
      "execution_count": null,
      "outputs": []
    },
    {
      "cell_type": "code",
      "source": [
        "callback = tf.keras.callbacks.ReduceLROnPlateau(monitor='val_loss', factor=0.2,\n",
        "                              patience=5, min_lr=0.00001)\n",
        "\n",
        "autoencoder.fit(\n",
        "    x=train_data,\n",
        "    y=train_data,\n",
        "    epochs=100,\n",
        "    batch_size=128,\n",
        "    shuffle=True,\n",
        "    validation_data=(test_data, test_data),callbacks=[callback]\n",
        ")"
      ],
      "metadata": {
        "id": "8mybOeP1333s"
      },
      "execution_count": null,
      "outputs": []
    },
    {
      "cell_type": "code",
      "source": [
        "tf.keras.utils.plot_model(\n",
        "    autoencoder,\n",
        "    to_file=\"autoencoder_ctscans.png\",\n",
        "    show_shapes=True,\n",
        "    show_dtype=False,\n",
        "    show_layer_names=True,\n",
        "    rankdir=\"TB\",\n",
        "    expand_nested=False,\n",
        "    dpi=96,\n",
        "    layer_range=None,\n",
        "    show_layer_activations=True,\n",
        ")"
      ],
      "metadata": {
        "id": "hTzc3ch5nysZ"
      },
      "execution_count": null,
      "outputs": []
    },
    {
      "cell_type": "code",
      "source": [
        "predictions = autoencoder.predict(test_data)\n",
        "display(test_data, predictions)"
      ],
      "metadata": {
        "id": "zla9IGoZ4W0B"
      },
      "execution_count": null,
      "outputs": []
    },
    {
      "cell_type": "code",
      "source": [
        "#noisy_images = noise(images)\n",
        "\n",
        "feature_extractor = Model(\n",
        "    inputs=autoencoder.inputs,\n",
        "    outputs=autoencoder.get_layer(name=\"max_pooling2d_1\").output,\n",
        ")\n",
        "\n",
        "features = feature_extractor(images)\n",
        "features = features.numpy()\n",
        "\n",
        "features =features.reshape(features.shape[0],32*32*4)\n",
        "                                                                                \n",
        "tsne = TSNE(n_components=2,perplexity = 20)\n",
        "tsne_results = tsne.fit_transform(features)\n",
        "fig = px.scatter(tsne_results, x=0, y=1,color=classes,labels={'0': 'tsne-2d-one', '1': 'tsne-2d-two'})\n",
        "fig.show()"
      ],
      "metadata": {
        "id": "rctnAJKH45cB"
      },
      "execution_count": null,
      "outputs": []
    },
    {
      "cell_type": "code",
      "source": [
        "from sklearn.cluster import KMeans                                              \n",
        "kmeans_tsne = KMeans(n_clusters=2).fit(tsne_results)\n",
        "kmeans_tsne_labels = kmeans_tsne.labels_"
      ],
      "metadata": {
        "id": "hJdi7Ymx48gi"
      },
      "execution_count": 24,
      "outputs": []
    },
    {
      "cell_type": "code",
      "source": [
        "fig = px.scatter(tsne_results, x=0, y=1,color=kmeans_tsne_labels,labels={'0': 'tsne-2d-one', '1': 'tsne-2d-two'})\n",
        "fig.show()"
      ],
      "metadata": {
        "id": "UUfd7C8O5h3L"
      },
      "execution_count": null,
      "outputs": []
    },
    {
      "cell_type": "code",
      "source": [
        "from sklearn import metrics\n",
        "print(metrics.homogeneity_completeness_v_measure(classes,kmeans_tsne_labels))\n",
        "print(metrics.rand_score(classes,kmeans_tsne_labels))"
      ],
      "metadata": {
        "id": "GkAfuwgy8dzu"
      },
      "execution_count": null,
      "outputs": []
    },
    {
      "cell_type": "code",
      "source": [
        "tsne_random = TSNE(n_components=2,init = 'random')\n",
        "tsne_random_results = tsne_random.fit_transform(features)\n",
        "fig = px.scatter(tsne_random_results, x=0, y=1,color=classes,labels={'0': 'tsne-2d-one', '1': 'tsne-2d-two'})\n",
        "fig.show()"
      ],
      "metadata": {
        "id": "2f6ItPiqZVe5"
      },
      "execution_count": null,
      "outputs": []
    },
    {
      "cell_type": "code",
      "source": [
        "kmeans_tsne_random = KMeans(n_clusters=2).fit(tsne_random_results)\n",
        "kmeans_tsne_random_labels = kmeans_tsne_random.labels_"
      ],
      "metadata": {
        "id": "Ihw5vGEsZI9Y"
      },
      "execution_count": 28,
      "outputs": []
    },
    {
      "cell_type": "code",
      "source": [
        "fig = px.scatter(tsne_random_results, x=0, y=1,color=kmeans_tsne_random_labels,labels={'0': 'tsne-2d-one', '1': 'tsne-2d-two'})\n",
        "fig.show()"
      ],
      "metadata": {
        "id": "dbbFI2SNbewZ"
      },
      "execution_count": null,
      "outputs": []
    },
    {
      "cell_type": "code",
      "source": [
        "from sklearn import metrics\n",
        "print(metrics.homogeneity_completeness_v_measure(classes,kmeans_tsne_random_labels))\n",
        "print(metrics.rand_score(classes,kmeans_tsne_random_labels))"
      ],
      "metadata": {
        "id": "poPVJyJnbiqX"
      },
      "execution_count": null,
      "outputs": []
    },
    {
      "cell_type": "code",
      "source": [
        "kmeans_original = KMeans(n_clusters=2).fit(features)\n",
        "kmeans_original_labels = kmeans_original.labels_"
      ],
      "metadata": {
        "id": "xJubXJqsbpFr"
      },
      "execution_count": 31,
      "outputs": []
    },
    {
      "cell_type": "code",
      "source": [
        "print(metrics.homogeneity_completeness_v_measure(classes,kmeans_original_labels)) \n",
        "print(metrics.rand_score(classes,kmeans_original_labels))                   "
      ],
      "metadata": {
        "id": "VCoYOKdBbs6r"
      },
      "execution_count": null,
      "outputs": []
    },
    {
      "cell_type": "markdown",
      "source": [
        "# Self Supervised Learning"
      ],
      "metadata": {
        "id": "T-0l4NCAvahl"
      }
    },
    {
      "cell_type": "code",
      "source": [
        "from google.colab.patches import cv2_imshow\n",
        "cv2_imshow(images[0])"
      ],
      "metadata": {
        "id": "N3zeWVp1voV3"
      },
      "execution_count": null,
      "outputs": []
    },
    {
      "cell_type": "code",
      "source": [
        "arbitary_labels = []\n",
        "arbitary_images = []\n",
        "\n",
        "for image in images:\n",
        "  arbitary_labels.append(0)\n",
        "  arbitary_images.append(image)\n",
        "  arbitary_labels.append(1)\n",
        "  arbitary_images.append(cv2.rotate(image, cv2.ROTATE_90_CLOCKWISE))\n",
        "  arbitary_labels.append(2)\n",
        "  arbitary_images.append(cv2.rotate(image, cv2.ROTATE_180))\n",
        "  arbitary_labels.append(3)\n",
        "  arbitary_images.append(cv2.rotate(image, cv2.ROTATE_90_COUNTERCLOCKWISE))\n"
      ],
      "metadata": {
        "id": "F-LxRCfbwXJx"
      },
      "execution_count": 22,
      "outputs": []
    },
    {
      "cell_type": "code",
      "source": [
        "arbitary_images = np.array(arbitary_images)\n",
        "arbitary_labels = np.array(arbitary_labels)\n",
        "arbitary_labels = pd.get_dummies(arbitary_labels).values"
      ],
      "metadata": {
        "id": "qmwtjYXExc1S"
      },
      "execution_count": 23,
      "outputs": []
    },
    {
      "cell_type": "code",
      "source": [
        "from sklearn.model_selection import train_test_split\n",
        "x_train,x_val,y_train,y_val = train_test_split(arbitary_images,arbitary_labels,random_state=1)"
      ],
      "metadata": {
        "id": "OU8W9EWLx8hu"
      },
      "execution_count": 24,
      "outputs": []
    },
    {
      "cell_type": "code",
      "source": [
        "model= tf.keras.Sequential()\n",
        "model.add(layers.Conv2D(kernel_size=(3,3),strides = 2, filters=32, activation='tanh', input_shape=(128,128,1)))\n",
        "model.add(layers.Conv2D(filters=16,kernel_size = (3,3),strides = 2,activation='tanh'))\n",
        "model.add(layers.MaxPool2D(2,2))\n",
        "model.add(layers.Conv2D(filters=16,kernel_size = (3,3),activation='tanh'))\n",
        "\n",
        "model.add(layers.Flatten())\n",
        "model.add(layers.Dense(512,activation='relu',name = \"one\")) \n",
        "model.add(layers.Dense(128,activation='relu',name = \"two\"))\n",
        "model.add(layers.Dense(4,activation = 'softmax'))\n",
        "    \n",
        "model.compile(\n",
        "              loss='categorical_crossentropy', \n",
        "              metrics=['acc'],                                                  \n",
        "              optimizer='adam'\n",
        "             )"
      ],
      "metadata": {
        "id": "jVOVxmWzxvx8"
      },
      "execution_count": 25,
      "outputs": []
    },
    {
      "cell_type": "code",
      "source": [
        "model.summary()"
      ],
      "metadata": {
        "id": "2-v2yKKpxxgN"
      },
      "execution_count": null,
      "outputs": []
    },
    {
      "cell_type": "code",
      "source": [
        "model.fit(x_train,y_train,epochs=10,batch_size=128,validation_data=(x_val,y_val))"
      ],
      "metadata": {
        "id": "vgY-b8U6xxcn"
      },
      "execution_count": null,
      "outputs": []
    },
    {
      "cell_type": "code",
      "source": [
        "tf.keras.utils.plot_model(\n",
        "    model,\n",
        "    to_file=\"selfsupervised_ctscans.png\",\n",
        "    show_shapes=True,\n",
        "    show_dtype=False,\n",
        "    show_layer_names=True,\n",
        "    rankdir=\"TB\",\n",
        "    expand_nested=False,\n",
        "    dpi=96,\n",
        "    layer_range=None,\n",
        "    show_layer_activations=True,\n",
        ")"
      ],
      "metadata": {
        "id": "cGgCv5m7pXR_"
      },
      "execution_count": null,
      "outputs": []
    },
    {
      "cell_type": "code",
      "source": [
        "evaluate = model.evaluate(x_val,y_val)\n",
        "print(evaluate)"
      ],
      "metadata": {
        "id": "AKN9IxNtxxY1"
      },
      "execution_count": null,
      "outputs": []
    },
    {
      "cell_type": "code",
      "source": [
        "predictions[0].shape"
      ],
      "metadata": {
        "id": "sxXnPpxpxxV4"
      },
      "execution_count": null,
      "outputs": []
    },
    {
      "cell_type": "code",
      "source": [
        "checkImage = arbitary_images[1000:1001]\n",
        "checklabel = arbitary_labels[1000:1001]\n",
        "\n",
        "predict = model.predict(np.array(checkImage))\n",
        "\n",
        "output = { 0:'No rotation',1:'90 degrees',2:'180 degrees',3:'270 degrees'}\n",
        "\n",
        "print(\"Actual :- \",checklabel)\n",
        "print(\"Predicted :- \",output[np.argmax(predict)])"
      ],
      "metadata": {
        "id": "z1pZhS3fxxNw"
      },
      "execution_count": null,
      "outputs": []
    },
    {
      "cell_type": "code",
      "source": [
        "feature_extractor = Model(\n",
        "    inputs=model.inputs,\n",
        "    outputs=model.get_layer(name=\"two\").output,\n",
        ")\n",
        "features = feature_extractor(images)\n",
        "features = features.numpy()\n",
        "print(features.shape)\n",
        "\n",
        "#features =features.reshape(features.shape[0],32*32*4)\n",
        "from sklearn.manifold import TSNE\n",
        "import plotly.express as px\n",
        "                                                                                \n",
        "tsne = TSNE(n_components=2)\n",
        "tsne_results = tsne.fit_transform(features)\n",
        "fig = px.scatter(tsne_results, x=0, y=1,color=classes,labels={'0': 'tsne-2d-one', '1': 'tsne-2d-two'}) \n",
        "fig.show()"
      ],
      "metadata": {
        "id": "CUhYsb_C048e"
      },
      "execution_count": null,
      "outputs": []
    },
    {
      "cell_type": "code",
      "source": [
        "kmeans_tsne = KMeans(n_clusters=2).fit(tsne_results)\n",
        "kmeans_tsne_labels = kmeans_tsne.labels_"
      ],
      "metadata": {
        "id": "g4R5QNWv-egh"
      },
      "execution_count": 60,
      "outputs": []
    },
    {
      "cell_type": "code",
      "source": [
        "fig = px.scatter(tsne_results, x=0, y=1,color=kmeans_tsne_labels,labels={'0': 'tsne-2d-one', '1': 'tsne-2d-two'})\n",
        "fig.show()"
      ],
      "metadata": {
        "id": "jLJo4oiJ-es3"
      },
      "execution_count": null,
      "outputs": []
    },
    {
      "cell_type": "code",
      "source": [
        "print(metrics.homogeneity_completeness_v_measure(classes,kmeans_tsne_labels))\n",
        "print(metrics.rand_score(classes,kmeans_tsne_labels))"
      ],
      "metadata": {
        "id": "y-oFDImj-ev1"
      },
      "execution_count": null,
      "outputs": []
    },
    {
      "cell_type": "code",
      "source": [
        "tsne_random = TSNE(n_components=2,init = 'random')                              \n",
        "tsne_random_results = tsne_random.fit_transform(features)\n",
        "fig = px.scatter(tsne_random_results, x=0, y=1,color=classes,labels={'0': 'tsne-2d-one', '1': 'tsne-2d-two'})\n",
        "fig.show()"
      ],
      "metadata": {
        "id": "g4UYm87O-ezN"
      },
      "execution_count": null,
      "outputs": []
    },
    {
      "cell_type": "code",
      "source": [
        "kmeans_tsne_random = KMeans(n_clusters=2).fit(tsne_random_results)\n",
        "kmeans_tsne_random_labels = kmeans_tsne_random.labels_"
      ],
      "metadata": {
        "id": "lRQuRJudm3ru"
      },
      "execution_count": 49,
      "outputs": []
    },
    {
      "cell_type": "code",
      "source": [
        "fig = px.scatter(tsne_random_results, x=0, y=1,color=kmeans_tsne_random_labels,labels={'0': 'tsne-2d-one', '1': 'tsne-2d-two'})\n",
        "fig.show()                                                                      "
      ],
      "metadata": {
        "id": "o6LL-svQm3oM"
      },
      "execution_count": null,
      "outputs": []
    },
    {
      "cell_type": "code",
      "source": [
        "print(metrics.homogeneity_completeness_v_measure(classes,kmeans_tsne_random_labels))\n",
        "print(metrics.rand_score(classes,kmeans_tsne_random_labels))"
      ],
      "metadata": {
        "id": "05Cq8HNbm3lx"
      },
      "execution_count": null,
      "outputs": []
    },
    {
      "cell_type": "code",
      "source": [
        "kmeans_original = KMeans(n_clusters=2).fit(features)\n",
        "kmeans_original_labels = kmeans_original.labels_"
      ],
      "metadata": {
        "id": "PnuZXz8bm3cL"
      },
      "execution_count": 52,
      "outputs": []
    },
    {
      "cell_type": "code",
      "source": [
        "print(metrics.homogeneity_completeness_v_measure(classes,kmeans_original_labels)) \n",
        "print(metrics.rand_score(classes,kmeans_original_labels)) "
      ],
      "metadata": {
        "id": "NUFBw5Lpn3ZG"
      },
      "execution_count": null,
      "outputs": []
    },
    {
      "cell_type": "code",
      "source": [],
      "metadata": {
        "id": "rr5JOrGz6S6h"
      },
      "execution_count": null,
      "outputs": []
    }
  ]
}